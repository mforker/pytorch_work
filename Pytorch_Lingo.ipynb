{
  "nbformat": 4,
  "nbformat_minor": 0,
  "metadata": {
    "colab": {
      "provenance": [],
      "authorship_tag": "ABX9TyMgIqpCkL6PBhzVQpRPfSNY",
      "include_colab_link": true
    },
    "kernelspec": {
      "name": "python3",
      "display_name": "Python 3"
    },
    "language_info": {
      "name": "python"
    }
  },
  "cells": [
    {
      "cell_type": "markdown",
      "metadata": {
        "id": "view-in-github",
        "colab_type": "text"
      },
      "source": [
        "<a href=\"https://colab.research.google.com/github/mforker/pytorch_work/blob/main/Pytorch_Lingo.ipynb\" target=\"_parent\"><img src=\"https://colab.research.google.com/assets/colab-badge.svg\" alt=\"Open In Colab\"/></a>"
      ]
    },
    {
      "cell_type": "markdown",
      "source": [
        "# Understanding PyTorch and its Lingo"
      ],
      "metadata": {
        "id": "lVFdanDOZKAG"
      }
    },
    {
      "cell_type": "markdown",
      "source": [
        "In order to understand pytorch and all the lingo it uses we need to first import the important libraries. The libraries that we will need are as follows: `torch`,`numpy`,`pandas`,`matplotlib`."
      ],
      "metadata": {
        "id": "5jIFAmbCZR5P"
      }
    },
    {
      "cell_type": "code",
      "execution_count": 2,
      "metadata": {
        "id": "TJn8MiYgudPU"
      },
      "outputs": [],
      "source": [
        "import torch\n",
        "import numpy as np\n",
        "import pandas as pd\n",
        "import matplotlib.pyplot as plt"
      ]
    },
    {
      "cell_type": "markdown",
      "source": [
        "Lets check thepytorch version that we have."
      ],
      "metadata": {
        "id": "GXBD-w2hZrJD"
      }
    },
    {
      "cell_type": "code",
      "source": [
        "print(torch.__version__)"
      ],
      "metadata": {
        "colab": {
          "base_uri": "https://localhost:8080/"
        },
        "id": "CujVEZN_Zu3J",
        "outputId": "66a9efd9-f522-46d8-98b1-1a5241e403b8"
      },
      "execution_count": 3,
      "outputs": [
        {
          "output_type": "stream",
          "name": "stdout",
          "text": [
            "2.6.0+cu124\n"
          ]
        }
      ]
    },
    {
      "cell_type": "markdown",
      "source": [
        "# Understanding Tensors"
      ],
      "metadata": {
        "id": "UHwJNm3BaT8b"
      }
    },
    {
      "cell_type": "markdown",
      "source": [
        "Tensors are the fundamental building block of machine learning.\n",
        "\n",
        "Their job is to represent data in a numerical way.\n",
        "\n",
        "For example, you could represent an image as a tensor with shape [3, 224, 224] which would mean [colour_channels, height, width], as in the image has 3 colour channels (red, green, blue), a height of 224 pixels and a width of 224 pixels."
      ],
      "metadata": {
        "id": "nserTzXYgCWt"
      }
    },
    {
      "cell_type": "markdown",
      "source": [
        "what is a tensor in a more fundamental way? This is an important question. In order to understand tensors we first need to understand what is a scaler, vector and matrix, beacuse a Tensor is a generalization of scalers, vectors and matrices.\n",
        "\n",
        "That means, a tesor can be a scaler, or a vector, or a matrix/matrices.\n",
        "\n",
        "### what is a scaler?\n",
        "\n",
        "A scaler is a singular number representing the magnitude of some quantity but not the direction. A scaler is the representation of magnitude of any quantity without direction. A Scaler is usually an integer or a float value representing magnitude.\n",
        "\n",
        "For example, a force of 10N (Newtons) is a scaler quantity. Its so because we know the amout of force that is being applied but not the direction."
      ],
      "metadata": {
        "id": "MDCLXQVdaXgV"
      }
    },
    {
      "cell_type": "markdown",
      "source": [
        "Lets create a scaler using pytorch."
      ],
      "metadata": {
        "id": "PEgCbLlCcOvc"
      }
    },
    {
      "cell_type": "code",
      "source": [
        "scaler = torch.tensor(7)"
      ],
      "metadata": {
        "id": "el3-LfcHZxb8"
      },
      "execution_count": 10,
      "outputs": []
    },
    {
      "cell_type": "markdown",
      "source": [
        "Here, we have created a scaler quantity called `scaler` which has a value of 7.\n",
        "\n",
        "We use `torch.tensor()` to create a scaler.\n",
        "\n",
        "Things we should know about `scaler` in pytorch:\n",
        "- it has 0 dimension\n",
        "- it ias either int or float"
      ],
      "metadata": {
        "id": "r8rh5lwEcZiZ"
      }
    },
    {
      "cell_type": "markdown",
      "source": [
        "When we print the scaler it prints in the tensor form with its value.\n",
        "we can access its value in int or float form by using `.item()` method in front of the name of the scaler that we assigned. In our case `scaler.item()`. We can also see its dimensions using `.ndim` attribute."
      ],
      "metadata": {
        "id": "he-EbXvDdnyy"
      }
    },
    {
      "cell_type": "code",
      "source": [
        "print(f'Printing a scaler: {scaler}')\n",
        "print(f'Accessing scaler\\'s values: {scaler.item()}')\n",
        "print(f'Looking at scaler\\'s dimesions: {scaler.ndim}')"
      ],
      "metadata": {
        "colab": {
          "base_uri": "https://localhost:8080/"
        },
        "id": "SlmgyneEdAgH",
        "outputId": "b7a73134-a051-4133-a900-b4bd2efc141d"
      },
      "execution_count": 14,
      "outputs": [
        {
          "output_type": "stream",
          "name": "stdout",
          "text": [
            "Printing a scaler: 7\n",
            "Accessing scaler's values: 7\n",
            "Looking at scaler's dimesions: 0\n"
          ]
        }
      ]
    },
    {
      "cell_type": "markdown",
      "source": [
        "### What is a Vector?"
      ],
      "metadata": {
        "id": "ilBKZs5ygw9C"
      }
    },
    {
      "cell_type": "markdown",
      "source": [
        "Well, you must have gussed it. Vectors are one dimentional array of numbers that represent magnutude along with direction. It can be thought of as a list of numbers `[2,3]` or `np.array([2,3])`.\n",
        "\n",
        "We can define a vector by using the same `torch.tensor()` but we need to pass an array of numbers instead of just numbers."
      ],
      "metadata": {
        "id": "WGUuCmc9i67p"
      }
    },
    {
      "cell_type": "code",
      "source": [
        "vector = torch.tensor([2,3])\n",
        "vector2 = torch.tensor(np.array([2,3])) # can use np.array() as well\n",
        "print(vector)\n",
        "print(vector2)"
      ],
      "metadata": {
        "colab": {
          "base_uri": "https://localhost:8080/"
        },
        "id": "ID3KFfPIj4NZ",
        "outputId": "8ca9e9a8-8dea-424e-9c75-8e575e4aaeea"
      },
      "execution_count": 21,
      "outputs": [
        {
          "output_type": "stream",
          "name": "stdout",
          "text": [
            "tensor([2, 3])\n",
            "tensor([2, 3])\n"
          ]
        }
      ]
    },
    {
      "cell_type": "markdown",
      "source": [
        "When we print the vector it prints in the tensor form. We can check its dimensions using `.ndim` attribute and we can check its shape using `.shape` attribute."
      ],
      "metadata": {
        "id": "SdzFYSK5j9p1"
      }
    },
    {
      "cell_type": "code",
      "source": [
        "print(f'Printing vector: {vector}')\n",
        "print(f'Looking at vector\\'s dimesions: {vector.ndim}')\n",
        "print(f'Looking at the shape: {vector.shape}')\n"
      ],
      "metadata": {
        "colab": {
          "base_uri": "https://localhost:8080/"
        },
        "id": "EN-9AG3Al9Ya",
        "outputId": "919c7c5b-17dd-4d94-8932-af3bae45bfa6"
      },
      "execution_count": 25,
      "outputs": [
        {
          "output_type": "stream",
          "name": "stdout",
          "text": [
            "Printing vector: tensor([2, 3])\n",
            "Looking at vector's dimesions: 1\n",
            "Looking at the shape: torch.Size([2])\n"
          ]
        }
      ]
    },
    {
      "cell_type": "markdown",
      "source": [
        "The `.shape` attribute says `torch.Size([2])` which means it has 2 elements. In PyTorch, the shape of a 1D tensor is represented as (number of elements,)."
      ],
      "metadata": {
        "id": "jaTv-rPH1ISQ"
      }
    },
    {
      "cell_type": "markdown",
      "source": [
        "We can access the elements to the vector by using indexing with the `.item()` method. To access the first element we can use `vector[0].item()` this will return us the first element of the one dimensional vector."
      ],
      "metadata": {
        "id": "4Mtb4iFC11Se"
      }
    },
    {
      "cell_type": "code",
      "source": [
        "print(f'First element of the vector: {vector[0].item()}')\n",
        "print(f'Second element of the vector: {vector[1].item()}')"
      ],
      "metadata": {
        "colab": {
          "base_uri": "https://localhost:8080/"
        },
        "id": "Ya3vXUae2LgK",
        "outputId": "230b4406-7728-4028-f431-1ab093c426c0"
      },
      "execution_count": 27,
      "outputs": [
        {
          "output_type": "stream",
          "name": "stdout",
          "text": [
            "First element of the vector: 2\n",
            "Second element of the vector: 3\n"
          ]
        }
      ]
    },
    {
      "cell_type": "markdown",
      "source": [
        "We can also convert it to a python list by using `.tolist()` methods. This will return a python list of the vector"
      ],
      "metadata": {
        "id": "J-WEB0Zi2UPz"
      }
    },
    {
      "cell_type": "code",
      "source": [
        "print(f'Vector as a list: {vector.tolist()}')"
      ],
      "metadata": {
        "colab": {
          "base_uri": "https://localhost:8080/"
        },
        "id": "BC7vg-FO2aOH",
        "outputId": "1fcb6ab3-a800-4ff1-bdc3-019ba5e93533"
      },
      "execution_count": 28,
      "outputs": [
        {
          "output_type": "stream",
          "name": "stdout",
          "text": [
            "Vector as a list: [2, 3]\n"
          ]
        }
      ]
    },
    {
      "cell_type": "markdown",
      "source": [
        "So, So far we learned a single numer representing just the magnitude is called a scaler while a pair of number representing magnitude as well as direction is called a vector.\n",
        "\n",
        "Now lets move on to metices."
      ],
      "metadata": {
        "id": "ivLgs02t2kb3"
      }
    },
    {
      "cell_type": "markdown",
      "source": [
        "### What is a Matrix?\n",
        "\n",
        "A matrix is a 2D array (a collection of numbers arranged in rows and columns).\n",
        "\n",
        "2D array means and array of arrays."
      ],
      "metadata": {
        "id": "KPeh5BR627Hd"
      }
    },
    {
      "cell_type": "code",
      "source": [
        "MATRIX = torch.tensor([[1,2],\n",
        "                       [3,4]])"
      ],
      "metadata": {
        "id": "JEVaKoY63QiF"
      },
      "execution_count": 30,
      "outputs": []
    },
    {
      "cell_type": "markdown",
      "source": [
        "Above is a matrix with 2 rows and 2 cols. lets find out its dimensions and shape."
      ],
      "metadata": {
        "id": "5Y3tOR-L3hPS"
      }
    },
    {
      "cell_type": "code",
      "source": [
        "print(f'Printing matrix: {MATRIX}')\n",
        "print(f'Looking at matrix\\'s dimesions: {MATRIX.ndim}')\n",
        "print(f'Looking at the shape: {MATRIX.shape}')"
      ],
      "metadata": {
        "colab": {
          "base_uri": "https://localhost:8080/"
        },
        "id": "BdSXRSBX3pad",
        "outputId": "dd042e83-545a-4d97-b32b-d28e524b6580"
      },
      "execution_count": 31,
      "outputs": [
        {
          "output_type": "stream",
          "name": "stdout",
          "text": [
            "Printing matrix: tensor([[1, 2],\n",
            "        [3, 4]])\n",
            "Looking at matrix's dimesions: 2\n",
            "Looking at the shape: torch.Size([2, 2])\n"
          ]
        }
      ]
    },
    {
      "cell_type": "markdown",
      "source": [
        "Matrices can be of many more dimensions."
      ],
      "metadata": {
        "id": "hTKI1DCa4Tkh"
      }
    },
    {
      "cell_type": "code",
      "source": [
        "Matrix1 = torch.tensor([[1,2,3],\n",
        "                         [4,5,6],\n",
        "                         [7,8,9]])\n",
        "print(f'Printing matrix: {Matrix1}')\n",
        "print(f'Looking at matrix\\'s dimesions: {Matrix1.ndim}')\n",
        "print(f'Looking at the shape: {Matrix1.shape}')"
      ],
      "metadata": {
        "colab": {
          "base_uri": "https://localhost:8080/"
        },
        "id": "UoyatN0t4XLV",
        "outputId": "ec1ac44f-05bc-40c1-cdf0-0ece99db1184"
      },
      "execution_count": 34,
      "outputs": [
        {
          "output_type": "stream",
          "name": "stdout",
          "text": [
            "Printing matrix: tensor([[1, 2, 3],\n",
            "        [4, 5, 6],\n",
            "        [7, 8, 9]])\n",
            "Looking at matrix's dimesions: 2\n",
            "Looking at the shape: torch.Size([3, 3])\n"
          ]
        }
      ]
    },
    {
      "cell_type": "markdown",
      "source": [
        "This is a 2 dimensional matrix. Which means its an array of arrays. This particular matrix has the shape of (3,3) which indicates that it has 3 arrays of 3 items.\n",
        "\n",
        "We can access its items as follows."
      ],
      "metadata": {
        "id": "25ljawTP4qz9"
      }
    },
    {
      "cell_type": "code",
      "source": [
        "Matrix1[0][0].item()"
      ],
      "metadata": {
        "colab": {
          "base_uri": "https://localhost:8080/"
        },
        "id": "dSQuAirM5mjZ",
        "outputId": "361e73fb-9666-4e52-a90a-df1fd544197b"
      },
      "execution_count": 38,
      "outputs": [
        {
          "output_type": "execute_result",
          "data": {
            "text/plain": [
              "1"
            ]
          },
          "metadata": {},
          "execution_count": 38
        }
      ]
    },
    {
      "cell_type": "markdown",
      "source": [],
      "metadata": {
        "id": "6XNcbv2Q5mR5"
      }
    }
  ]
}