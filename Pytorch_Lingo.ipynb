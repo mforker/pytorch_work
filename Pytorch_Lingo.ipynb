{
  "nbformat": 4,
  "nbformat_minor": 0,
  "metadata": {
    "colab": {
      "provenance": [],
      "authorship_tag": "ABX9TyPISP5zGQQ8w0Nq0jh2BUaB",
      "include_colab_link": true
    },
    "kernelspec": {
      "name": "python3",
      "display_name": "Python 3"
    },
    "language_info": {
      "name": "python"
    }
  },
  "cells": [
    {
      "cell_type": "markdown",
      "metadata": {
        "id": "view-in-github",
        "colab_type": "text"
      },
      "source": [
        "<a href=\"https://colab.research.google.com/github/mforker/pytorch_work/blob/main/Pytorch_Lingo.ipynb\" target=\"_parent\"><img src=\"https://colab.research.google.com/assets/colab-badge.svg\" alt=\"Open In Colab\"/></a>"
      ]
    },
    {
      "cell_type": "markdown",
      "source": [
        "# Understanding PyTorch and its Lingo"
      ],
      "metadata": {
        "id": "lVFdanDOZKAG"
      }
    },
    {
      "cell_type": "markdown",
      "source": [
        "In order to understand pytorch and all the lingo it uses we need to first import the important libraries. The libraries that we will need are as follows: `torch`,`numpy`,`pandas`,`matplotlib`."
      ],
      "metadata": {
        "id": "5jIFAmbCZR5P"
      }
    },
    {
      "cell_type": "code",
      "execution_count": 2,
      "metadata": {
        "id": "TJn8MiYgudPU"
      },
      "outputs": [],
      "source": [
        "import torch\n",
        "import numpy as np\n",
        "import pandas as pd\n",
        "import matplotlib.pyplot as plt"
      ]
    },
    {
      "cell_type": "markdown",
      "source": [
        "Lets check thepytorch version that we have."
      ],
      "metadata": {
        "id": "GXBD-w2hZrJD"
      }
    },
    {
      "cell_type": "code",
      "source": [
        "print(torch.__version__)"
      ],
      "metadata": {
        "colab": {
          "base_uri": "https://localhost:8080/"
        },
        "id": "CujVEZN_Zu3J",
        "outputId": "66a9efd9-f522-46d8-98b1-1a5241e403b8"
      },
      "execution_count": 3,
      "outputs": [
        {
          "output_type": "stream",
          "name": "stdout",
          "text": [
            "2.6.0+cu124\n"
          ]
        }
      ]
    },
    {
      "cell_type": "markdown",
      "source": [
        "# Understanding Tensors"
      ],
      "metadata": {
        "id": "UHwJNm3BaT8b"
      }
    },
    {
      "cell_type": "markdown",
      "source": [
        "what is a tensor and why do we need it? This is an important question. In order to understand tensors we first need to understand what is a scaler, vector and matrix, beacuse a Tensor is a generalization of scalers, vectors and matrices.\n",
        "\n",
        "That means, a tesor can be a scaler, or a vector, or a matrix/matrices.\n",
        "\n",
        "### what is a scaler?\n",
        "\n",
        "A scaler is a singular number representing the magnitude of some quantity but not the direction. A scaler is the representation of magnitude of any quantity without direction. A Scaler is usually an integer or a float value representing magnitude.\n",
        "\n",
        "For example, a force of 10N (Newtons) is a scaler quantity. Its so because we know the amout of force that is being applied but not the direction."
      ],
      "metadata": {
        "id": "MDCLXQVdaXgV"
      }
    },
    {
      "cell_type": "markdown",
      "source": [
        "Lets create a scaler using pytorch."
      ],
      "metadata": {
        "id": "PEgCbLlCcOvc"
      }
    },
    {
      "cell_type": "code",
      "source": [
        "scaler = torch.tensor(7)"
      ],
      "metadata": {
        "id": "el3-LfcHZxb8"
      },
      "execution_count": 10,
      "outputs": []
    },
    {
      "cell_type": "markdown",
      "source": [
        "Here, we have created a scaler quantity called `scaler` which has a value of 7.\n",
        "\n",
        "We use `torch.tensor()` to create a scaler.\n",
        "\n",
        "Things we should know about `scaler` in pytorch:\n",
        "- it has 0 dimension\n",
        "- it ias either int or float"
      ],
      "metadata": {
        "id": "r8rh5lwEcZiZ"
      }
    },
    {
      "cell_type": "markdown",
      "source": [
        "When we print the scaler it prints in the tensor form with its value.\n",
        "we can access its value in int or float form by using `.item()` method in front of the name of the scaler that we assigned. In our case `scaler.item()`. We can also see its dimensions using `.ndim` attribute."
      ],
      "metadata": {
        "id": "he-EbXvDdnyy"
      }
    },
    {
      "cell_type": "code",
      "source": [
        "print(f'Printing a scaler: {scaler}')\n",
        "print(f'Accessing scaler\\'s values: {scaler.item()}')\n",
        "print(f'Looking at scaler\\'s dimesions: {scaler.ndim}')"
      ],
      "metadata": {
        "colab": {
          "base_uri": "https://localhost:8080/"
        },
        "id": "SlmgyneEdAgH",
        "outputId": "b7a73134-a051-4133-a900-b4bd2efc141d"
      },
      "execution_count": 14,
      "outputs": [
        {
          "output_type": "stream",
          "name": "stdout",
          "text": [
            "Printing a scaler: 7\n",
            "Accessing scaler's values: 7\n",
            "Looking at scaler's dimesions: 0\n"
          ]
        }
      ]
    }
  ]
}